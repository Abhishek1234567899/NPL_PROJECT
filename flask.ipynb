{
 "cells": [
  {
   "cell_type": "code",
   "execution_count": 1,
   "metadata": {},
   "outputs": [
    {
     "name": "stdout",
     "output_type": "stream",
     "text": [
      "Requirement already satisfied: flask in e:\\maniconda\\envs\\fai\\lib\\site-packages (3.0.3)\n",
      "Requirement already satisfied: Werkzeug>=3.0.0 in e:\\maniconda\\envs\\fai\\lib\\site-packages (from flask) (3.0.6)\n",
      "Requirement already satisfied: Jinja2>=3.1.2 in e:\\maniconda\\envs\\fai\\lib\\site-packages (from flask) (3.1.4)\n",
      "Requirement already satisfied: itsdangerous>=2.1.2 in e:\\maniconda\\envs\\fai\\lib\\site-packages (from flask) (2.2.0)\n",
      "Requirement already satisfied: click>=8.1.3 in e:\\maniconda\\envs\\fai\\lib\\site-packages (from flask) (8.1.7)\n",
      "Requirement already satisfied: blinker>=1.6.2 in e:\\maniconda\\envs\\fai\\lib\\site-packages (from flask) (1.8.2)\n",
      "Requirement already satisfied: importlib-metadata>=3.6.0 in e:\\maniconda\\envs\\fai\\lib\\site-packages (from flask) (8.4.0)\n",
      "Requirement already satisfied: colorama in c:\\users\\imaba\\appdata\\roaming\\python\\python38\\site-packages (from click>=8.1.3->flask) (0.4.6)\n",
      "Requirement already satisfied: zipp>=0.5 in c:\\users\\imaba\\appdata\\roaming\\python\\python38\\site-packages (from importlib-metadata>=3.6.0->flask) (3.20.2)\n",
      "Requirement already satisfied: MarkupSafe>=2.0 in e:\\maniconda\\envs\\fai\\lib\\site-packages (from Jinja2>=3.1.2->flask) (2.1.5)\n",
      "Note: you may need to restart the kernel to use updated packages.\n"
     ]
    }
   ],
   "source": [
    "pip install flask\n"
   ]
  },
  {
   "cell_type": "code",
   "execution_count": 3,
   "metadata": {},
   "outputs": [
    {
     "name": "stdout",
     "output_type": "stream",
     "text": [
      "Requirement already satisfied: flask in e:\\maniconda\\envs\\fai\\lib\\site-packages (3.0.3)\n",
      "Note: you may need to restart the kernel to use updated packages.\n"
     ]
    },
    {
     "name": "stderr",
     "output_type": "stream",
     "text": [
      "ERROR: Could not find a version that satisfies the requirement sqlite3 (from versions: none)\n",
      "ERROR: No matching distribution found for sqlite3\n"
     ]
    }
   ],
   "source": [
    "pip install flask sqlite3\n"
   ]
  },
  {
   "cell_type": "code",
   "execution_count": 2,
   "metadata": {},
   "outputs": [
    {
     "name": "stdout",
     "output_type": "stream",
     "text": [
      " * Serving Flask app '__main__'\n",
      " * Debug mode: on\n"
     ]
    },
    {
     "name": "stderr",
     "output_type": "stream",
     "text": [
      "WARNING: This is a development server. Do not use it in a production deployment. Use a production WSGI server instead.\n",
      " * Running on http://127.0.0.1:5000\n",
      "Press CTRL+C to quit\n",
      " * Restarting with stat\n"
     ]
    },
    {
     "ename": "SystemExit",
     "evalue": "1",
     "output_type": "error",
     "traceback": [
      "An exception has occurred, use %tb to see the full traceback.\n",
      "\u001b[1;31mSystemExit\u001b[0m\u001b[1;31m:\u001b[0m 1\n"
     ]
    },
    {
     "name": "stderr",
     "output_type": "stream",
     "text": [
      "C:\\Users\\imaba\\AppData\\Roaming\\Python\\Python38\\site-packages\\IPython\\core\\interactiveshell.py:3516: UserWarning: To exit: use 'exit', 'quit', or Ctrl-D.\n",
      "  warn(\"To exit: use 'exit', 'quit', or Ctrl-D.\", stacklevel=1)\n"
     ]
    }
   ],
   "source": [
    "from flask import Flask, request, jsonify\n",
    "import sqlite3\n",
    "\n",
    "app = Flask(__name__)\n",
    "\n",
    "# Function to query the database\n",
    "def get_cve_info(cve_id):\n",
    "    # Connect to the SQLite database\n",
    "    conn = sqlite3.connect('cve_data.db')\n",
    "    cursor = conn.cursor()\n",
    "\n",
    "    # Query the database for the given CVE ID, excluding the 'Entities' column\n",
    "    query = \"\"\"\n",
    "    SELECT cve_id, \"Source Identifier\", \"Published Date\", \"Last Modified Date\", \n",
    "           \"Vulnerability Status\", \"Description\", \"CVSS Score\", \"Weaknesses\", \n",
    "           \"Configuration\", \"References\", \"Dependencies\", \"Category\"\n",
    "    FROM cve_info\n",
    "    WHERE cve_id = ?\n",
    "    \"\"\"\n",
    "    cursor.execute(query, (cve_id,))\n",
    "    \n",
    "    # Fetch the result\n",
    "    result = cursor.fetchone()\n",
    "    \n",
    "    # Close the connection\n",
    "    conn.close()\n",
    "\n",
    "    # If no result is found, return None\n",
    "    if result:\n",
    "        return {\n",
    "            \"CVE ID\": result[0],\n",
    "            \"Source Identifier\": result[1],\n",
    "            \"Published Date\": result[2],\n",
    "            \"Last Modified Date\": result[3],\n",
    "            \"Vulnerability Status\": result[4],\n",
    "            \"Description\": result[5],\n",
    "            \"CVSS Score\": result[6],\n",
    "            \"Weaknesses\": result[7],\n",
    "            \"Configuration\": result[8],\n",
    "            \"References\": result[9],\n",
    "            \"Dependencies\": result[10],\n",
    "            \"Category\": result[11]\n",
    "        }\n",
    "    else:\n",
    "        return None\n",
    "\n",
    "# Define the route for getting CVE information\n",
    "@app.route('/get_cve', methods=['GET'])\n",
    "def cve_info():\n",
    "    cve_id = request.args.get('cve_id')  # Get CVE ID from URL query parameter\n",
    "    if not cve_id:\n",
    "        return jsonify({\"error\": \"CVE ID is required\"}), 400\n",
    "\n",
    "    # Fetch data for the provided CVE ID\n",
    "    data = get_cve_info(cve_id)\n",
    "    \n",
    "    if data:\n",
    "        return jsonify(data)\n",
    "    else:\n",
    "        return jsonify({\"error\": \"CVE ID not found\"}), 404\n",
    "\n",
    "# Run the application\n",
    "if __name__ == '__main__':\n",
    "    app.run(debug=True)\n"
   ]
  }
 ],
 "metadata": {
  "kernelspec": {
   "display_name": "fai",
   "language": "python",
   "name": "python3"
  },
  "language_info": {
   "codemirror_mode": {
    "name": "ipython",
    "version": 3
   },
   "file_extension": ".py",
   "mimetype": "text/x-python",
   "name": "python",
   "nbconvert_exporter": "python",
   "pygments_lexer": "ipython3",
   "version": "3.8.20"
  }
 },
 "nbformat": 4,
 "nbformat_minor": 2
}
